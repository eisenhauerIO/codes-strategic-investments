{
 "cells": [
  {
   "cell_type": "code",
   "execution_count": 1,
   "id": "1bba722f-6e3c-4a86-82df-0bc741f9aa11",
   "metadata": {},
   "outputs": [],
   "source": [
    "from support import solve_minimax_regret_optimization\n",
    "import pandas as pd\n",
    "import pickle as pkl\n",
    "import numpy as np"
   ]
  },
  {
   "cell_type": "code",
   "execution_count": 2,
   "id": "f6098e55-b16b-440a-a966-fb326b5f1c3e",
   "metadata": {},
   "outputs": [],
   "source": [
    "# Define investment opportunities\n",
    "investment_opportunities = [\n",
    "    {'id': 'A', 'cost': 4, 'R_best': 15, 'R_med': 10, 'R_worst': 2, 'confidence': 0.9},\n",
    "    {'id': 'B', 'cost': 3, 'R_best': 12, 'R_med': 8, 'R_worst': 1, 'confidence': 0.6},\n",
    "    {'id': 'C', 'cost': 3, 'R_best': 9, 'R_med': 6, 'R_worst': 2, 'confidence': 0.80},\n",
    "    {'id': 'D', 'cost': 2, 'R_best': 7, 'R_med': 5, 'R_worst': 3, 'confidence': 0.40},\n",
    "    {'id': 'E', 'cost': 5, 'R_best': 18, 'R_med': 9, 'R_worst': 0, 'confidence': 0.50}, # Low confidence\n",
    "]"
   ]
  },
  {
   "cell_type": "code",
   "execution_count": 3,
   "id": "e443e508-079b-46b5-b248-9dd1beb6d839",
   "metadata": {},
   "outputs": [
    {
     "data": {
      "text/html": [
       "<div>\n",
       "<style scoped>\n",
       "    .dataframe tbody tr th:only-of-type {\n",
       "        vertical-align: middle;\n",
       "    }\n",
       "\n",
       "    .dataframe tbody tr th {\n",
       "        vertical-align: top;\n",
       "    }\n",
       "\n",
       "    .dataframe thead th {\n",
       "        text-align: right;\n",
       "    }\n",
       "</style>\n",
       "<table border=\"1\" class=\"dataframe\">\n",
       "  <thead>\n",
       "    <tr style=\"text-align: right;\">\n",
       "      <th></th>\n",
       "      <th>cost</th>\n",
       "      <th>R_best</th>\n",
       "      <th>R_med</th>\n",
       "      <th>R_worst</th>\n",
       "      <th>confidence</th>\n",
       "    </tr>\n",
       "    <tr>\n",
       "      <th>id</th>\n",
       "      <th></th>\n",
       "      <th></th>\n",
       "      <th></th>\n",
       "      <th></th>\n",
       "      <th></th>\n",
       "    </tr>\n",
       "  </thead>\n",
       "  <tbody>\n",
       "    <tr>\n",
       "      <th>A</th>\n",
       "      <td>4</td>\n",
       "      <td>15</td>\n",
       "      <td>10</td>\n",
       "      <td>2</td>\n",
       "      <td>0.9</td>\n",
       "    </tr>\n",
       "    <tr>\n",
       "      <th>B</th>\n",
       "      <td>3</td>\n",
       "      <td>12</td>\n",
       "      <td>8</td>\n",
       "      <td>1</td>\n",
       "      <td>0.6</td>\n",
       "    </tr>\n",
       "    <tr>\n",
       "      <th>C</th>\n",
       "      <td>3</td>\n",
       "      <td>9</td>\n",
       "      <td>6</td>\n",
       "      <td>2</td>\n",
       "      <td>0.8</td>\n",
       "    </tr>\n",
       "    <tr>\n",
       "      <th>D</th>\n",
       "      <td>2</td>\n",
       "      <td>7</td>\n",
       "      <td>5</td>\n",
       "      <td>3</td>\n",
       "      <td>0.4</td>\n",
       "    </tr>\n",
       "    <tr>\n",
       "      <th>E</th>\n",
       "      <td>5</td>\n",
       "      <td>18</td>\n",
       "      <td>9</td>\n",
       "      <td>0</td>\n",
       "      <td>0.5</td>\n",
       "    </tr>\n",
       "  </tbody>\n",
       "</table>\n",
       "</div>"
      ],
      "text/plain": [
       "    cost  R_best  R_med  R_worst  confidence\n",
       "id                                          \n",
       "A      4      15     10        2         0.9\n",
       "B      3      12      8        1         0.6\n",
       "C      3       9      6        2         0.8\n",
       "D      2       7      5        3         0.4\n",
       "E      5      18      9        0         0.5"
      ]
     },
     "execution_count": 3,
     "metadata": {},
     "output_type": "execute_result"
    }
   ],
   "source": [
    "investments = pd.DataFrame(investment_opportunities)\n",
    "investments.set_index(\"id\", inplace=True)\n",
    "investments"
   ]
  },
  {
   "cell_type": "code",
   "execution_count": 4,
   "id": "cde35535-2d4b-4633-98d9-b2dabdaca93a",
   "metadata": {},
   "outputs": [
    {
     "name": "stdout",
     "output_type": "stream",
     "text": [
      "--- Running Minimax Regret Optimization ---\n",
      "Total Budget: 10\n",
      "Min Confidence Threshold: 0.5\n",
      "Min Portfolio Worst Return: 4\n",
      "\n",
      "--- Calculating Optimal Scenario Returns (V_j_star) ---\n",
      "  Scenario 'best': V_j_star = 28.90\n",
      "  Scenario 'med': V_j_star = 19.60\n",
      "  Scenario 'worst': V_j_star = 5.00\n",
      "\n",
      "--- Formulating Minimax Regret Problem ---\n",
      "Solving the main optimization problem...\n",
      "\n",
      "--- Optimization Results ---\n",
      "Solver Status: Optimal\n",
      "Minimized Maximum Regret: 0.00\n",
      "Selected Initiatives: ['A', 'B', 'C']\n",
      "Total Cost of Selected Initiatives: 10.00\n",
      "\n",
      "Effective Returns of Selected Portfolio:\n",
      "  Scenario best: 28.90\n",
      "  Scenario med: 19.60\n",
      "  Scenario worst: 5.00\n",
      "\n",
      "Optimal Returns for Each Scenario (V_j_star):\n",
      "  Scenario best: 28.90\n",
      "  Scenario med: 19.60\n",
      "  Scenario worst: 5.00\n",
      "\n",
      "Calculated Regrets for the Selected Portfolio:\n",
      "  Scenario best: 0.00\n",
      "  Scenario med: 0.00\n",
      "  Scenario worst: 0.00\n",
      "\n",
      "Actual Max Regret (from selected portfolio): 0.00\n",
      "Does it match minimized max regret? True\n"
     ]
    }
   ],
   "source": [
    "# Define optimization parameters\n",
    "BUDGET = 10\n",
    "MIN_CONFIDENCE = 0.5 # Initiatives with confidence < 0.4 will be excluded\n",
    "MIN_RETURN = 4 # Minimum aggregate R_worst for selected portfolio\n",
    "\n",
    "# Solve the optimization problem\n",
    "results = solve_minimax_regret_optimization(\n",
    "    investment_opportunities,\n",
    "    BUDGET,\n",
    "    MIN_CONFIDENCE,\n",
    "    MIN_RETURN)\n",
    "\n",
    "# Print results\n",
    "print(\"\\n--- Optimization Results ---\")\n",
    "print(f\"Solver Status: {results['status']}\")\n",
    "if results['status'] == 'Optimal':\n",
    "    print(f\"Minimized Maximum Regret: {results['min_max_regret']:.2f}\")\n",
    "    print(f\"Selected Initiatives: {results['selected_initiatives']}\")\n",
    "    print(f\"Total Cost of Selected Initiatives: {results['total_cost']:.2f}\")\n",
    "    print(\"\\nEffective Returns of Selected Portfolio:\")\n",
    "    for s, r_val in results['total_actual_returns'].items():\n",
    "        print(f\"  Scenario {s}: {r_val:.2f}\")\n",
    "\n",
    "    print(\"\\nOptimal Returns for Each Scenario (V_j_star):\")\n",
    "    for s, v_val in results['v_j_star'].items():\n",
    "        print(f\"  Scenario {s}: {v_val:.2f}\")\n",
    "\n",
    "    print(\"\\nCalculated Regrets for the Selected Portfolio:\")\n",
    "    for s, r_val in results['regrets_for_selected_portfolio'].items():\n",
    "        print(f\"  Scenario {s}: {r_val:.2f}\")\n",
    "\n",
    "    # Verify the max regret from the selected portfolio matches the objective value\n",
    "    if results['regrets_for_selected_portfolio']:\n",
    "        actual_max_regret = max(results['regrets_for_selected_portfolio'].values())\n",
    "        print(f\"\\nActual Max Regret (from selected portfolio): {actual_max_regret:.2f}\")\n",
    "        print(f\"Does it match minimized max regret? {abs(actual_max_regret - results['min_max_regret']) < 1e-6}\") # Check for floating point equality\n",
    "\n",
    "else:\n",
    "    print(\"Optimization did not find an optimal solution.\")\n",
    "    if 'v_j_star' in results and results['v_j_star']:\n",
    "         print(\"\\nOptimal Returns for Each Scenario (V_j_star):\")\n",
    "         for s, v_val in results['v_j_star'].items():\n",
    "             print(f\"  Scenario {s}: {v_val:.2f}\")"
   ]
  },
  {
   "cell_type": "code",
   "execution_count": 5,
   "id": "ed1b9878-8bbc-45d3-b1b9-44be19fb8904",
   "metadata": {},
   "outputs": [],
   "source": [
    "#pkl.dump(results, open(\"regression_test.obj\",\"wb\"))"
   ]
  },
  {
   "cell_type": "code",
   "execution_count": 6,
   "id": "a39dec3a-e3de-4e72-82da-df43e4d4b52c",
   "metadata": {},
   "outputs": [],
   "source": [
    "rslt = pkl.load(open('regression_test.obj', 'rb'))\n",
    "np.testing.assert_equal(rslt, results)"
   ]
  },
  {
   "cell_type": "markdown",
   "id": "93740935-07cb-479c-b7a3-8a62b3fbacc0",
   "metadata": {},
   "source": [
    "#"
   ]
  }
 ],
 "metadata": {
  "kernelspec": {
   "display_name": "Python 3 (ipykernel)",
   "language": "python",
   "name": "python3"
  },
  "language_info": {
   "codemirror_mode": {
    "name": "ipython",
    "version": 3
   },
   "file_extension": ".py",
   "mimetype": "text/x-python",
   "name": "python",
   "nbconvert_exporter": "python",
   "pygments_lexer": "ipython3",
   "version": "3.12.5"
  }
 },
 "nbformat": 4,
 "nbformat_minor": 5
}
